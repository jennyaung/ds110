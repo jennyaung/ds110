{
  "cells": [
    {
      "cell_type": "markdown",
      "metadata": {
        "id": "view-in-github",
        "colab_type": "text"
      },
      "source": [
        "<a href=\"https://colab.research.google.com/github/jennyaung/ds110/blob/main/JennyAung2_DS110_F23_HW2.ipynb\" target=\"_parent\"><img src=\"https://colab.research.google.com/assets/colab-badge.svg\" alt=\"Open In Colab\"/></a>"
      ]
    },
    {
      "cell_type": "markdown",
      "metadata": {
        "id": "A7mpivJPWaNa"
      },
      "source": [
        "# Problem 1:  Ebi Sushi (28 pts: 6,10,12)\n",
        "\n",
        "My wife and I went to a sushi place called Ebi Sushi recently.  Here are the items that were on the receipt."
      ]
    },
    {
      "cell_type": "code",
      "execution_count": 2,
      "metadata": {
        "id": "cVAqqK8OWW4O"
      },
      "outputs": [],
      "source": [
        "ebi_receipt = [('Edamame', 6), ('Chirashi', 18.99), ('Inari', 3.60), ('Veggie House Roll', 11), ('Broccoli Roll', 7)]"
      ]
    },
    {
      "cell_type": "markdown",
      "metadata": {
        "id": "786zDEMfYYAG"
      },
      "source": [
        "a) (8 pts) Write code below that iterates through the receipt to find the most expensive item, then prints that item."
      ]
    },
    {
      "cell_type": "code",
      "execution_count": 3,
      "metadata": {
        "colab": {
          "base_uri": "https://localhost:8080/"
        },
        "id": "YkPnDwkeYn0S",
        "outputId": "40476980-a11b-426d-c587-340e5f967631"
      },
      "outputs": [
        {
          "output_type": "stream",
          "name": "stdout",
          "text": [
            "Chirashi\n"
          ]
        }
      ],
      "source": [
        "# TODO\n",
        "most_expensive_item = ''\n",
        "most_expensive_price = 0\n",
        "for item, price in ebi_receipt:\n",
        "  if price > most_expensive_price:\n",
        "    most_expensive_item = item\n",
        "    most_expensive_price = price\n",
        "print(most_expensive_item)"
      ]
    },
    {
      "cell_type": "markdown",
      "metadata": {
        "id": "anOn3kVwm2nY"
      },
      "source": [
        "b) (10 pts) When we went to Ebi Sushi, the bottom of our receipt mentioned different possible total amounts for different tip percentages, which is a nice touch.  Write code that uses a iterates through a list of tip percentages *tips* and prints the total amount of *base*+tip for each tip amount.\n",
        "\n",
        "For example, if *base* was 201.15 and *tips* were [15, 18, 20], then the output would be\n",
        "\n",
        "15%: 231.32\n",
        "\n",
        "18%: 237.36\n",
        "\n",
        "20%: 241.38\n",
        "\n",
        "Use round(value, 2) to round to two places after the decimal (pennies) in each case.\n",
        "\n"
      ]
    },
    {
      "cell_type": "code",
      "execution_count": null,
      "metadata": {
        "colab": {
          "base_uri": "https://localhost:8080/"
        },
        "id": "H7B_oQ_cnnVF",
        "outputId": "17823efb-cb89-4447-a50f-d18eef6e7447"
      },
      "outputs": [
        {
          "output_type": "stream",
          "name": "stdout",
          "text": [
            "15%: 231.32\n",
            "18%: 237.36\n",
            "20%: 241.38\n"
          ]
        }
      ],
      "source": [
        "tips = [15, 18, 20]\n",
        "base = 201.15\n",
        "\n",
        "# Print total amounts for each tip percent in given list\n",
        "for tips_percentage in tips:\n",
        "  total_amount = base + (base * (tips_percentage/100))\n",
        "  print(str(tips_percentage)+ \"%\" + \": \" + str(round(total_amount,2)))\n",
        "# TODO"
      ]
    },
    {
      "cell_type": "markdown",
      "metadata": {
        "id": "6K6_NhKdZQMc"
      },
      "source": [
        "c) (10 pts) The following list notes whether Sandra ('S') or Kevin ('K') ordered each item.  Write code that iterates through the list *who_ordered* of (item, amount, who_purchased) and prints a tuple with (amount Sandra ordered, amount Kevin ordered).  For example, if *who_ordered* were set to list *who_ordered2* below, the output would be (11, 15).\n",
        "\n",
        "You'll want to maintain two variables as you iterate through the list, and use a conditional (if/else) to decide which total to add to.  You can assume all the orderer codes are \"S\" or \"K\".\n",
        "\n"
      ]
    },
    {
      "cell_type": "code",
      "execution_count": 5,
      "metadata": {
        "id": "yWDi25leCLKO"
      },
      "outputs": [],
      "source": [
        "who_ordered = [('Edamame', 6, 'S'), ('Chirashi', 18.99, 'K'), ('Inari', 3.60, 'S'), ('Veggie House Roll', 11, 'S'), ('Broccoli Roll', 7, 'S')]\n",
        "who_ordered2 = [('thing1', 5, 'K'),('thing2',5,'S'),('thing3',10,'K'),('thing4',6,'S')]"
      ]
    },
    {
      "cell_type": "code",
      "execution_count": 6,
      "metadata": {
        "colab": {
          "base_uri": "https://localhost:8080/"
        },
        "id": "64gSWMUwaGx5",
        "outputId": "541ab177-d460-4694-bcfa-0929d83ef948"
      },
      "outputs": [
        {
          "output_type": "stream",
          "name": "stdout",
          "text": [
            "(27.6, 18.99)\n"
          ]
        }
      ],
      "source": [
        "# TODO\n",
        "sandra_total = 0\n",
        "kevin_total = 0\n",
        "for item, amount, orderer in who_ordered:\n",
        "  if orderer == \"S\":\n",
        "    sandra_total += amount\n",
        "  elif orderer == \"K\":\n",
        "    kevin_total += amount\n",
        "print((sandra_total, kevin_total))"
      ]
    },
    {
      "cell_type": "code",
      "source": [
        "sandra_total = 0\n",
        "kevin_total = 0\n",
        "for item, amount, orderer in who_ordered2:\n",
        "  if orderer == \"S\":\n",
        "    sandra_total += amount\n",
        "  elif orderer == \"K\":\n",
        "    kevin_total += amount\n",
        "print((sandra_total, kevin_total))"
      ],
      "metadata": {
        "colab": {
          "base_uri": "https://localhost:8080/"
        },
        "id": "oT3YjGdsw5on",
        "outputId": "9d36c748-853f-45a6-bdbd-1fccada15149"
      },
      "execution_count": null,
      "outputs": [
        {
          "output_type": "stream",
          "name": "stdout",
          "text": [
            "(11, 15)\n"
          ]
        }
      ]
    },
    {
      "cell_type": "markdown",
      "metadata": {
        "id": "tzE9xO_Xbg_I"
      },
      "source": [
        "# Problem 2:  Graphing (22 pts: 6, 10, 6)\n",
        "\n",
        "\n",
        "\n",
        "\n"
      ]
    },
    {
      "cell_type": "markdown",
      "metadata": {
        "id": "5DzYB28N6NHp"
      },
      "source": [
        "a, 6 pts) Over the course of 7 days, the average gas price across Massachusetts fluctuates; these prices are given in the *gas_prices* variable.  Plot the prices with a line graph in matplotlib.  (The x axis, day, ranges from 1 to 7.)"
      ]
    },
    {
      "cell_type": "code",
      "execution_count": null,
      "metadata": {
        "colab": {
          "base_uri": "https://localhost:8080/",
          "height": 448
        },
        "id": "ZIgeAavB6yTt",
        "outputId": "1a92b0c7-c691-47cd-810e-4d3c390163a5"
      },
      "outputs": [
        {
          "output_type": "execute_result",
          "data": {
            "text/plain": [
              "[<matplotlib.lines.Line2D at 0x7faab454d000>]"
            ]
          },
          "metadata": {},
          "execution_count": 24
        },
        {
          "output_type": "display_data",
          "data": {
            "text/plain": [
              "<Figure size 640x480 with 1 Axes>"
            ],
            "image/png": "[encoded data removed]"
          },
          "metadata": {}
        }
      ],
      "source": [
        "gas_prices = [4.80, 5.05, 4.90, 5.10, 5.20, 5.15, 5.30]\n",
        "\n",
        "# TODO\n",
        "import matplotlib.pyplot as plt\n",
        "days = list(range(1,8))\n",
        "plt.plot(days, gas_prices)"
      ]
    },
    {
      "cell_type": "markdown",
      "metadata": {
        "id": "7JcOaozq8Bek"
      },
      "source": [
        "b, 10pts) Plot the same graph again but with additional trendline in red of y = x/12 + 4.75, plotted as a line graph on top of the original points, which should now be a scatter plot.  (Hint:  You just need two points on the line to plot the line.)"
      ]
    },
    {
      "cell_type": "code",
      "execution_count": 9,
      "metadata": {
        "id": "No84bXQd7POi",
        "colab": {
          "base_uri": "https://localhost:8080/",
          "height": 448
        },
        "outputId": "5e578b24-fbd6-411b-9fa4-b824d6693821"
      },
      "outputs": [
        {
          "output_type": "execute_result",
          "data": {
            "text/plain": [
              "[<matplotlib.lines.Line2D at 0x7adaf46287c0>]"
            ]
          },
          "metadata": {},
          "execution_count": 9
        },
        {
          "output_type": "display_data",
          "data": {
            "text/plain": [
              "<Figure size 640x480 with 1 Axes>"
            ],
            "image/png": "[encoded data removed]"
          },
          "metadata": {}
        }
      ],
      "source": [
        "# TODO\n",
        "import numpy as np\n",
        "import matplotlib.pyplot as plt\n",
        "gas_prices = [4.80, 5.05, 4.90, 5.10, 5.20, 5.15, 5.30]\n",
        "plt.plot(range(1,8), gas_prices, 'o')\n",
        "xpoints = np.linspace(1,7)\n",
        "ypoints = xpoints/12 + 4.75\n",
        "plt.plot(xpoints, ypoints, 'r')"
      ]
    },
    {
      "cell_type": "markdown",
      "metadata": {
        "id": "ue5ApzHM__FK"
      },
      "source": [
        "c, 6 pts) On a new graph, plot the function $y = 10x^2$ from 0 to 5.  Use np.linspace() to get at least 100 samples, then plot it as a line graph."
      ]
    },
    {
      "cell_type": "code",
      "execution_count": 10,
      "metadata": {
        "id": "T8e_Is7PAVx6",
        "colab": {
          "base_uri": "https://localhost:8080/",
          "height": 448
        },
        "outputId": "ec197732-2fd5-45b5-f44d-4e21df26dc3b"
      },
      "outputs": [
        {
          "output_type": "execute_result",
          "data": {
            "text/plain": [
              "[<matplotlib.lines.Line2D at 0x7adaf468a320>]"
            ]
          },
          "metadata": {},
          "execution_count": 10
        },
        {
          "output_type": "display_data",
          "data": {
            "text/plain": [
              "<Figure size 640x480 with 1 Axes>"
            ],
            "image/png": "[encoded data removed]"
          },
          "metadata": {}
        }
      ],
      "source": [
        "# TODO\n",
        "xpoints = np.linspace(0,5,100)\n",
        "ypoints = 10 * xpoints ** 2\n",
        "plt.plot(xpoints, ypoints)"
      ]
    },
    {
      "cell_type": "markdown",
      "metadata": {
        "id": "F1Irs2kvDCT0"
      },
      "source": [
        "# Problem 3:  Matrices (10 points)\n",
        "\n",
        "10pts) Find the **product** AB, where A is a 2x100 matrix with all zeros in the first row and all ones in the second row, and B is a 100x2 matrix of all 1's.  Use np.concatenate, np.zeros, and np.ones to create the matrix A, and np.ones to create matrix B.  (Recall an m x n matrix has *m* rows and *n* columns.)  You may need to Google documentation for np.concatenate and np.ones."
      ]
    },
    {
      "cell_type": "code",
      "execution_count": null,
      "metadata": {
        "id": "-KNGwuiIDq5g",
        "colab": {
          "base_uri": "https://localhost:8080/"
        },
        "outputId": "e7d2b774-6a65-40db-b26f-e6187943852b"
      },
      "outputs": [
        {
          "output_type": "stream",
          "name": "stdout",
          "text": [
            "[[  0.   0.]\n",
            " [100. 100.]]\n"
          ]
        }
      ],
      "source": [
        "# TODO\n",
        "import numpy as np\n",
        "row1 = np.zeros((1,100))\n",
        "row2 = np.ones((1,100))\n",
        "A = np.concatenate((row1, row2), axis = 0)\n",
        "B = np.ones((100,2))\n",
        "product_AB = A @ B\n",
        "print(product_AB)"
      ]
    }
  ],
  "metadata": {
    "colab": {
      "provenance": [],
      "include_colab_link": true
    },
    "kernelspec": {
      "display_name": "Python 3",
      "language": "python",
      "name": "python3"
    },
    "language_info": {
      "codemirror_mode": {
        "name": "ipython",
        "version": 3
      },
      "file_extension": ".py",
      "mimetype": "text/x-python",
      "name": "python",
      "nbconvert_exporter": "python",
      "pygments_lexer": "ipython3",
      "version": "3.8.8"
    }
  },
  "nbformat": 4,
  "nbformat_minor": 0
}